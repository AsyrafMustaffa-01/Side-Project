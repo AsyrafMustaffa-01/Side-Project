{
 "cells": [
  {
   "cell_type": "markdown",
   "metadata": {},
   "source": [
    "### Enhance underexposed image with contrast and brightness"
   ]
  },
  {
   "cell_type": "markdown",
   "metadata": {},
   "source": [
    "there few technique i used to enhance an underexposed image. one of it is white balance correction. the purpose is to make the image looks more natural for their color casts. \n",
    "\n",
    "other than that i use LAB color space to seperate brighness from color information. this allow to enhance brightness and contrast without affecting colors directly. \n",
    "\n",
    "also i use CLAHE (Contrast Limited Adaptive Histogram Equalization) and apply it to the L-channel to enhance contrast adaptively, while preserving details.\n",
    "\n",
    "then i raise the brightness and contrast to further enhance image visibility and details.\n",
    "\n",
    "then i use bilateral filter to reduce noise while preserves edges."
   ]
  },
  {
   "cell_type": "code",
   "execution_count": 27,
   "metadata": {},
   "outputs": [
    {
     "name": "stdout",
     "output_type": "stream",
     "text": [
      "Enhanced image saved to enhanced_image_underexposed.jpg\n"
     ]
    }
   ],
   "source": [
    "import cv2\n",
    "import numpy as np\n",
    "\n",
    "# Apply automatic white balance correction\n",
    "def white_balance(img):\n",
    "    result = cv2.cvtColor(img, cv2.COLOR_BGR2LAB)\n",
    "    avg_a = np.average(result[:, :, 1])\n",
    "    avg_b = np.average(result[:, :, 2])\n",
    "    result[:, :, 1] = result[:, :, 1] - ((avg_a - 128) * (result[:, :, 0] / 255.0) * 1.1)\n",
    "    result[:, :, 2] = result[:, :, 2] - ((avg_b - 128) * (result[:, :, 0] / 255.0) * 1.1)\n",
    "    return cv2.cvtColor(result, cv2.COLOR_LAB2BGR)\n",
    "\n",
    "def enhance_image(image_path, output_path):\n",
    "    # Read the image\n",
    "    img = cv2.imread(image_path)\n",
    "\n",
    "    img = white_balance(img)\n",
    "\n",
    "    # Convert to LAB color space\n",
    "    lab = cv2.cvtColor(img, cv2.COLOR_BGR2LAB)\n",
    "\n",
    "    # Split the LAB image into L, A, and B channels\n",
    "    l, a, b = cv2.split(lab)\n",
    "\n",
    "    # Apply CLAHE (Contrast Limited Adaptive Histogram Equalization) to L-channel\n",
    "    clahe = cv2.createCLAHE(clipLimit=1.0, tileGridSize=(9,9))\n",
    "    cl = clahe.apply(l)\n",
    "\n",
    "    # Merge the CLAHE enhanced L-channel with the original A and B channels\n",
    "    limg = cv2.merge((cl,a,b))\n",
    "\n",
    "    # Convert back to BGR color space\n",
    "    enhanced = cv2.cvtColor(limg, cv2.COLOR_LAB2BGR)\n",
    "\n",
    "    # Increase brightness\n",
    "    brightness = 25\n",
    "    enhanced = cv2.add(enhanced, brightness)\n",
    "\n",
    "    # Increase contrast\n",
    "    alpha = 1.1  # Contrast control (1.0-3.0)\n",
    "    beta = 20    # Brightness control (0-100)\n",
    "    enhanced = cv2.convertScaleAbs(enhanced, alpha=alpha, beta=beta)\n",
    "\n",
    "    # Apply bilateral filter to reduce noise while preserving edges\n",
    "    enhanced_img = cv2.bilateralFilter(enhanced, 1, 10, 10)\n",
    "\n",
    "    # Save the result\n",
    "    cv2.imwrite(output_path, enhanced_img)\n",
    "\n",
    "    print(f\"Enhanced image saved to {output_path}\")\n",
    "\n",
    "# Usage\n",
    "input_image = \"test_image_photo\\\\underexposed_photo.jpeg\"\n",
    "output_image = \"enhanced_image_underexposed.jpg\"\n",
    "enhance_image(input_image, output_image)"
   ]
  },
  {
   "cell_type": "markdown",
   "metadata": {},
   "source": [
    "### Enhance overexposure image"
   ]
  },
  {
   "cell_type": "markdown",
   "metadata": {},
   "source": [
    "for over exposure image, it is quite straight forward, as i just do reduce brightness and contrast to the image. "
   ]
  },
  {
   "cell_type": "code",
   "execution_count": 224,
   "metadata": {},
   "outputs": [],
   "source": [
    "from PIL import Image, ImageEnhance\n",
    "import numpy as np\n",
    "\n",
    "def reduce_overexposure(input_path, output_path, brightness_factor=0.9, contrast_factor=1.7):\n",
    "    # Open the image\n",
    "    img = Image.open(input_path)\n",
    "\n",
    "    # Convert image to numpy array\n",
    "    img_array = np.array(img)\n",
    "\n",
    "    # Calculate the average brightness of the image\n",
    "    average_brightness = np.mean(img_array)\n",
    "\n",
    "    # Adjust brightness factor based on average brightness\n",
    "    if average_brightness > 200:  # If the image is very bright\n",
    "        brightness_factor *= 0.8  # Reduce brightness more aggressively\n",
    "\n",
    "    # Adjust brightness\n",
    "    enhancer = ImageEnhance.Brightness(img)\n",
    "    img = enhancer.enhance(brightness_factor)\n",
    "\n",
    "    # Adjust contrast\n",
    "    enhancer = ImageEnhance.Contrast(img)\n",
    "    img = enhancer.enhance(contrast_factor)\n",
    "\n",
    "    # Save the result\n",
    "    img.save(output_path)\n",
    "\n",
    "# Usage\n",
    "input_image = \"test_image_photo\\overexposed_photo.jpeg\"\n",
    "output_image = \"enhanced_image_overexposed.jpg\"\n",
    "reduce_overexposure(input_image, output_image)"
   ]
  },
  {
   "cell_type": "markdown",
   "metadata": {},
   "source": [
    "### Enhance grainy image"
   ]
  },
  {
   "cell_type": "markdown",
   "metadata": {},
   "source": [
    "for grainy image, i mainly focus on reducing the noise in the images. i use opencv library built in method, Non-local Mean Denoising. as it is effective algorithm to reduce grainess by averaging similar patches across image. \n",
    "\n",
    "then i touch up using gaussian blur to smoothen image and reduce remaining noise. after done removing noise and blur the image might appear flat, so i adjust a bit the brightness and contrast to make the image more detail."
   ]
  },
  {
   "cell_type": "code",
   "execution_count": 32,
   "metadata": {},
   "outputs": [],
   "source": [
    "import cv2\n",
    "import numpy as np\n",
    "\n",
    "def denoise_image(image_path, output_path):\n",
    "    # Read the image\n",
    "    img = cv2.imread(image_path, cv2.IMREAD_GRAYSCALE)\n",
    "    \n",
    "    # Apply denoising\n",
    "    denoised = cv2.fastNlMeansDenoising(img, None, h=10, searchWindowSize=21)\n",
    "    \n",
    "    # Apply Gaussian blur for further smoothing\n",
    "    blurred = cv2.GaussianBlur(denoised, (3, 3), 0)\n",
    "    \n",
    "    # Adjust contrast and brightness\n",
    "    alpha = 1.2 # Contrast control (1.0-3.0)\n",
    "    beta = 10 # Brightness control (0-100)\n",
    "    adjusted = cv2.convertScaleAbs(blurred, alpha=alpha, beta=beta)\n",
    "    \n",
    "    # Save the result\n",
    "    cv2.imwrite(output_path, adjusted)\n",
    "\n",
    "# Usage\n",
    "denoise_image('test_image_photo\\\\grainy_image.jpg', 'enhanced_image_grainy.jpg')"
   ]
  }
 ],
 "metadata": {
  "kernelspec": {
   "display_name": "python_work",
   "language": "python",
   "name": "python3"
  },
  "language_info": {
   "codemirror_mode": {
    "name": "ipython",
    "version": 3
   },
   "file_extension": ".py",
   "mimetype": "text/x-python",
   "name": "python",
   "nbconvert_exporter": "python",
   "pygments_lexer": "ipython3",
   "version": "3.11.5"
  }
 },
 "nbformat": 4,
 "nbformat_minor": 2
}
